{
 "cells": [
  {
   "cell_type": "code",
   "execution_count": 15,
   "metadata": {},
   "outputs": [],
   "source": [
    "import pandas as pd\n",
    "import numpy as np\n",
    "from scipy.spatial import distance\n",
    "import re"
   ]
  },
  {
   "cell_type": "code",
   "execution_count": 16,
   "metadata": {},
   "outputs": [],
   "source": [
    "frame = pd.read_csv('sentences.txt', header=None, sep='\\n')\n",
    "l = frame[0].tolist()\n",
    "sentences = [list(filter(None, re.split('[^a-z]', x.lower()))) for x in l]"
   ]
  },
  {
   "cell_type": "code",
   "execution_count": 17,
   "metadata": {},
   "outputs": [],
   "source": [
    "wordsSet = set()\n",
    "for i, s in enumerate(sentences):\n",
    "    for j, w in enumerate(s):\n",
    "        wordsSet.add(w)\n",
    "\n",
    "words = list(wordsSet)"
   ]
  },
  {
   "cell_type": "code",
   "execution_count": 43,
   "metadata": {},
   "outputs": [],
   "source": [
    "v = np.zeros((len(sentences),len(words)), dtype=int)"
   ]
  },
  {
   "cell_type": "code",
   "execution_count": 47,
   "metadata": {},
   "outputs": [],
   "source": [
    "for i, s in enumerate(sentences):\n",
    "    for j, w in enumerate(words):\n",
    "        if w in s:\n",
    "            v[i, j] += 1"
   ]
  },
  {
   "cell_type": "code",
   "execution_count": 45,
   "metadata": {},
   "outputs": [
    {
     "data": {
      "text/plain": [
       "[(5, 0.7547442642060137), (3, 0.8055388829343507)]"
      ]
     },
     "execution_count": 45,
     "metadata": {},
     "output_type": "execute_result"
    }
   ],
   "source": [
    "distancies = []\n",
    "for i, s in enumerate(v[1:]):\n",
    "    distancies.append((i, distance.cosine(v[0], s)))\n",
    "\n",
    "res = sorted(distancies, key=lambda x: x[1])[0:2]    \n",
    "res"
   ]
  },
  {
   "cell_type": "code",
   "execution_count": 46,
   "metadata": {},
   "outputs": [],
   "source": [
    "f=open(\"result.txt\",\"w+\")\n",
    "f.write('%(a)s %(b)s' % {\"a\": res[0][0] + 1, \"b\": res[1][0] + 1})\n",
    "f.close()"
   ]
  },
  {
   "cell_type": "code",
   "execution_count": null,
   "metadata": {},
   "outputs": [],
   "source": []
  },
  {
   "cell_type": "code",
   "execution_count": null,
   "metadata": {},
   "outputs": [],
   "source": []
  }
 ],
 "metadata": {
  "kernelspec": {
   "display_name": "Python 3",
   "language": "python",
   "name": "python3"
  },
  "language_info": {
   "codemirror_mode": {
    "name": "ipython",
    "version": 3
   },
   "file_extension": ".py",
   "mimetype": "text/x-python",
   "name": "python",
   "nbconvert_exporter": "python",
   "pygments_lexer": "ipython3",
   "version": "3.7.3"
  }
 },
 "nbformat": 4,
 "nbformat_minor": 2
}
